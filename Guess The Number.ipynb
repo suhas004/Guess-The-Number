{
 "cells": [
  {
   "cell_type": "code",
   "execution_count": null,
   "metadata": {},
   "outputs": [],
   "source": [
    "from random import randint"
   ]
  },
  {
   "cell_type": "code",
   "execution_count": null,
   "metadata": {
    "collapsed": true
   },
   "outputs": [
    {
     "name": "stdout",
     "output_type": "stream",
     "text": [
      "enter your name \n"
     ]
    }
   ],
   "source": [
    "num=randint(1,50)\n",
    "nog=8\n",
    "print(\"enter your name \")\n",
    "name=input()\n",
    "print(\"Hea \"+name+\"!\"+\"lets play a small game\")\n",
    "while nog>0:\n",
    "    print(\"Guess the number from 1-50\")\n",
    "    guess=int(input())\n",
    "    print()\n",
    "    nog=nog-1\n",
    "    if num==guess:\n",
    "        print(\"Hea \"+name+\"!\")\n",
    "        print(\"your guess is correct\")\n",
    "        print(\"congratulations\")\n",
    "        break\n",
    "    elif num==guess+1 or num==guess-1 or num==guess+2 or num==guess-2:\n",
    "        print(\"You are very close to the number\")\n",
    "        print(\"Total Chances left are\",nog)\n",
    "        print()\n",
    "    elif num<guess:\n",
    "        print(\"Try selecting the lesser number \")\n",
    "        print(\"Total Chances left are\",nog)\n",
    "        print()\n",
    "    elif num>guess:\n",
    "        print(\"Try selecting the greater number \")\n",
    "        print(\"Total Chances left are\",nog)\n",
    "        print()\n",
    "else:\n",
    "    print(\"You lost\")\n",
    "    print(\"The Number is \",num)\n",
    "    \n",
    "print(\"\")   \n",
    "print(\"********Thanks for playing*********\")\n",
    "\n",
    "            "
   ]
  },
  {
   "cell_type": "code",
   "execution_count": null,
   "metadata": {},
   "outputs": [],
   "source": []
  }
 ],
 "metadata": {
  "kernelspec": {
   "display_name": "Python 3",
   "language": "python",
   "name": "python3"
  },
  "language_info": {
   "codemirror_mode": {
    "name": "ipython",
    "version": 3
   },
   "file_extension": ".py",
   "mimetype": "text/x-python",
   "name": "python",
   "nbconvert_exporter": "python",
   "pygments_lexer": "ipython3",
   "version": "3.7.4"
  }
 },
 "nbformat": 4,
 "nbformat_minor": 2
}
